{
 "cells": [
  {
   "cell_type": "markdown",
   "metadata": {},
   "source": [
    "# Sentiment Analysis Comparison Game of Thrones Seasons"
   ]
  },
  {
   "cell_type": "markdown",
   "metadata": {},
   "source": [
    "By: Sierra King\n",
    "\n",
    "The data was collected by scraping metacritic using BeautifulSoup to gather 824 user reviews.  "
   ]
  },
  {
   "cell_type": "markdown",
   "metadata": {},
   "source": [
    "## How the data was gathered"
   ]
  },
  {
   "cell_type": "code",
   "execution_count": 1,
   "metadata": {},
   "outputs": [],
   "source": [
    "from bs4 import BeautifulSoup\n",
    "import requests\n",
    "import pickle\n",
    "from time import sleep\n",
    "from random import randint\n",
    "from IPython.core.display import clear_output\n",
    "from time import time\n",
    "\n",
    "\n",
    "#user_agent = {'User-agent': \"Chrome\"}\n",
    "#pages = [str(i) for i in range(1,9)]\n",
    "#review = []\n",
    "#review_text = []\n",
    "#\n",
    "#start_time = time()\n",
    "#num_requests = 0\n",
    "#\n",
    "#for page in pages:\n",
    "#    r = requests.get(\"https://www.metacritic.com/tv/game-of-thrones/season-2/user-reviews?page=\" + str(pages), headers=user_agent)\n",
    "#    sleep(randint(10,17))\n",
    "#    \n",
    "#    num_requests += 1\n",
    "#    elapsed_time = time() - start_time\n",
    "#    print('Request:{}; Frequency: {} requests/s'.format(num_requests, num_requests/elapsed_time))\n",
    "#    clear_output(wait = True)\n",
    "#    \n",
    "#    soup = BeautifulSoup(r.text, 'html5lib')\n",
    "#    review += soup.find_all('div',{\"class\": \"review_body\"})\n",
    "#for i in review:\n",
    "#    review_text.append(i.text)\n",
    "#with open('game_of_thrones_s2.pkl', 'wb') as f:\n",
    "#    pickle.dump(review_text, f)"
   ]
  },
  {
   "cell_type": "markdown",
   "metadata": {},
   "source": [
    "## Import Data"
   ]
  },
  {
   "cell_type": "code",
   "execution_count": 2,
   "metadata": {},
   "outputs": [],
   "source": [
    "import nltk\n",
    "import numpy as np\n",
    "from nltk.sentiment.vader import SentimentIntensityAnalyzer\n",
    "import matplotlib.pyplot as plt\n",
    "\n",
    "with open('pkl/game_of_thrones_s1.pkl', 'rb') as f:\n",
    "    s1 = pickle.load(f)\n",
    "    \n",
    "with open('pkl/game_of_thrones_s2.pkl', 'rb') as f:\n",
    "    s2 = pickle.load(f)\n",
    "    \n",
    "with open('pkl/game_of_thrones_s3.pkl', 'rb') as f:\n",
    "    s3 = pickle.load(f)\n",
    "    \n",
    "with open('pkl/game_of_thrones_s4.pkl', 'rb') as f:\n",
    "    s4 = pickle.load(f)\n",
    "    \n",
    "with open('pkl/game_of_thrones_s5.pkl', 'rb') as f:\n",
    "    s5 = pickle.load(f)\n",
    "    \n",
    "with open('pkl/game_of_thrones_s6.pkl', 'rb') as f:\n",
    "    s6 = pickle.load(f)\n",
    "    \n",
    "with open('pkl/game_of_thrones_s7.pkl', 'rb') as f:\n",
    "    s7 = pickle.load(f)\n",
    "    \n",
    "with open('pkl/game_of_thrones_s8.pkl', 'rb') as f:\n",
    "    s8 = pickle.load(f)"
   ]
  },
  {
   "cell_type": "markdown",
   "metadata": {},
   "source": [
    "## Sentiment Analysis"
   ]
  },
  {
   "cell_type": "code",
   "execution_count": 3,
   "metadata": {},
   "outputs": [],
   "source": [
    "def sentimentAnalyzer(reviews):\n",
    "    analyzer = SentimentIntensityAnalyzer()\n",
    "    summary = {\"positive\": 0, \"neutral\": 0, \"negative\": 0}\n",
    "    for i, t in enumerate(reviews):\n",
    "        text = t\n",
    "        ss = analyzer.polarity_scores(text)\n",
    "        if ss[\"compound\"] > -0.05 and ss[\"compound\"] < 0.05:\n",
    "            summary[\"neutral\"] += 1\n",
    "        elif ss[\"compound\"] > 0.05:\n",
    "            summary[\"positive\"] += 1\n",
    "        else:\n",
    "            summary[\"negative\"] += 1\n",
    "    return summary"
   ]
  },
  {
   "cell_type": "markdown",
   "metadata": {},
   "source": [
    "## Graphs"
   ]
  },
  {
   "cell_type": "code",
   "execution_count": 4,
   "metadata": {},
   "outputs": [],
   "source": [
    "def pieChart(review, message1, color1, color2, color3):\n",
    "    sizes = [review[\"positive\"], review[\"negative\"], review[\"neutral\"]]\n",
    "    names = ['Positive', 'Negative', 'Neutral']\n",
    "    colors = [color1, color2, color3]\n",
    "    explode = (0.05,0.05,0.05)\n",
    "    \n",
    "    plt.pie(sizes, colors = colors, labels=names, autopct='%1.1f%%', startangle=45, pctdistance=0.83, explode = explode, textprops = {'fontsize': 15})\n",
    "    plt.title(message1, size = 30)\n",
    "    centre_circle = plt.Circle((0,0),0.70,fc='white')\n",
    "    fig = plt.gcf()\n",
    "    fig.gca().add_artist(centre_circle)\n",
    "    plt.axis('equal') \n",
    "    plt.tight_layout()\n",
    "#     plt.savefig(\"game_of_thrones_s1_pie.png\")\n",
    "#     plt.show()\n",
    "    \n",
    "def pieChartTwitter(review, message1, color1, color2, color3):\n",
    "    labels = ['Positive', 'Negative', 'Neutral']\n",
    "    sizes = [review['positive'], review['negative'], review['neutral']]\n",
    "    colors = [color1, color2, color3]\n",
    "    explode = (0.05, 0.05, 0.05)  \n",
    "    fig1, ax1 = plt.subplots()\n",
    "    ax1.pie(sizes, colors=colors, explode=explode, labels=labels, autopct='%1.1f%%',\n",
    "         startangle=180, textprops = {'fontsize': 15})\n",
    "    ax1.set_title(message1, size = 30)\n",
    "    ax1.axis('equal')  \n",
    "    plt.tight_layout()\n",
    "#     plt.savefig(\"game_of_thrones_s8_pie.png\")\n",
    "#     plt.show()"
   ]
  },
  {
   "cell_type": "code",
   "execution_count": 6,
   "metadata": {},
   "outputs": [],
   "source": [
    "sentiment_s1 = sentimentAnalyzer(s1)\n",
    "sentiment_s2 = sentimentAnalyzer(s2)\n",
    "sentiment_s3 = sentimentAnalyzer(s3)\n",
    "sentiment_s4 = sentimentAnalyzer(s4)\n",
    "sentiment_s5 = sentimentAnalyzer(s5)\n",
    "sentiment_s6 = sentimentAnalyzer(s6)\n",
    "sentiment_s7 = sentimentAnalyzer(s7)\n",
    "sentiment_s8 = sentimentAnalyzer(s8)\n",
    "pieChart(sentiment_s1, \"Season 1\", '#80d0f1', '#a8a8a8', '#7b906f')\n",
    "pieChartTwitter(sentiment_s8, \"Season 8\", '#80d0f1', '#a8a8a8', '#7b906f')"
   ]
  },
  {
   "cell_type": "code",
   "execution_count": 8,
   "metadata": {},
   "outputs": [],
   "source": [
    "seasons = ('Season 1', 'Season 2', 'Season 3', 'Season 4', 'Season 5', 'Season 6', 'Season 7', 'Season 8')\n",
    "y_pos = np.arange(len(seasons))\n",
    "s1_neg = sentiment_s1['negative']\n",
    "s2_neg = sentiment_s2['negative']\n",
    "s3_neg = sentiment_s3['negative']\n",
    "s4_neg = sentiment_s4['negative']\n",
    "s5_neg = sentiment_s5['negative']\n",
    "s6_neg = sentiment_s6['negative']\n",
    "s7_neg = sentiment_s7['negative']\n",
    "s8_neg = sentiment_s8['negative']\n",
    "negativity = [s1_neg, s2_neg, s3_neg, s4_neg, s5_neg, s6_neg, s7_neg, s8_neg]\n",
    "\n",
    "fig, ax = plt.subplots()\n",
    "rects = ax.barh(y_pos, negativity, align='center', fc='#80d0f1')\n",
    "ax.set_yticks(y_pos)\n",
    "ax.set_yticklabels(seasons)\n",
    "ax.tick_params(pad=10)\n",
    "for i, v in enumerate(negativity):\n",
    "    ax.text(v + 3, i-0.1, str(v), color='black', fontweight='bold')\n",
    "\n",
    "plt.xlabel('Number of Negative Rated Reviews')\n",
    "plt.title('Game of Thrones Seasons Negative Rated Reviews Analysis')\n",
    "for spine in ('top', 'right', 'bottom', 'left'):\n",
    "    ax.spines[spine].set_visible(False)\n",
    "ax.xaxis.set_ticks([])\n",
    "# plt.show()\n",
    "plt.tight_layout()\n",
    "plt.savefig(\"game_of_thrones_chart.png\")"
   ]
  },
  {
   "cell_type": "code",
   "execution_count": null,
   "metadata": {},
   "outputs": [],
   "source": []
  }
 ],
 "metadata": {
  "kernelspec": {
   "display_name": "Python 3 (Spyder)",
   "language": "python3",
   "name": "python3"
  },
  "language_info": {
   "codemirror_mode": {
    "name": "ipython",
    "version": 3
   },
   "file_extension": ".py",
   "mimetype": "text/x-python",
   "name": "python",
   "nbconvert_exporter": "python",
   "pygments_lexer": "ipython3",
   "version": "3.7.1"
  }
 },
 "nbformat": 4,
 "nbformat_minor": 2
}
